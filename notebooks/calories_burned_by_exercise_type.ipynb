{
 "cells": [
  {
   "cell_type": "markdown",
   "metadata": {},
   "source": [
    "# Introduction\n",
    "\n",
    "Uma questao pertinente ao se"
   ]
  },
  {
   "cell_type": "markdown",
   "metadata": {},
   "source": [
    "# Import"
   ]
  },
  {
   "cell_type": "code",
   "execution_count": 36,
   "metadata": {},
   "outputs": [],
   "source": [
    "# Import necessary libraries\n",
    "import pandas as pd\n",
    "import numpy as np\n",
    "from plotnine import *\n",
    "from scipy import stats\n",
    "\n",
    "# Suppress warnings\n",
    "import warnings\n",
    "warnings.filterwarnings('ignore')"
   ]
  },
  {
   "cell_type": "markdown",
   "metadata": {},
   "source": [
    "# Data Extraction"
   ]
  },
  {
   "cell_type": "code",
   "execution_count": 37,
   "metadata": {},
   "outputs": [],
   "source": [
    "# Load the dataset\n",
    "path = \"../data/gym_members_exercise_tracking.csv\"\n",
    "df_gym = pd.read_csv(path)"
   ]
  },
  {
   "cell_type": "code",
   "execution_count": 38,
   "metadata": {},
   "outputs": [
    {
     "data": {
      "text/html": [
       "<div>\n",
       "<style scoped>\n",
       "    .dataframe tbody tr th:only-of-type {\n",
       "        vertical-align: middle;\n",
       "    }\n",
       "\n",
       "    .dataframe tbody tr th {\n",
       "        vertical-align: top;\n",
       "    }\n",
       "\n",
       "    .dataframe thead th {\n",
       "        text-align: right;\n",
       "    }\n",
       "</style>\n",
       "<table border=\"1\" class=\"dataframe\">\n",
       "  <thead>\n",
       "    <tr style=\"text-align: right;\">\n",
       "      <th></th>\n",
       "      <th>Age</th>\n",
       "      <th>Gender</th>\n",
       "      <th>Weight (kg)</th>\n",
       "      <th>Height (m)</th>\n",
       "      <th>Max_BPM</th>\n",
       "      <th>Avg_BPM</th>\n",
       "      <th>Resting_BPM</th>\n",
       "      <th>Session_Duration (hours)</th>\n",
       "      <th>Calories_Burned</th>\n",
       "      <th>Workout_Type</th>\n",
       "      <th>Fat_Percentage</th>\n",
       "      <th>Water_Intake (liters)</th>\n",
       "      <th>Workout_Frequency (days/week)</th>\n",
       "      <th>Experience_Level</th>\n",
       "      <th>BMI</th>\n",
       "    </tr>\n",
       "  </thead>\n",
       "  <tbody>\n",
       "    <tr>\n",
       "      <th>0</th>\n",
       "      <td>56</td>\n",
       "      <td>Male</td>\n",
       "      <td>88.3</td>\n",
       "      <td>1.71</td>\n",
       "      <td>180</td>\n",
       "      <td>157</td>\n",
       "      <td>60</td>\n",
       "      <td>1.69</td>\n",
       "      <td>1313.0</td>\n",
       "      <td>Yoga</td>\n",
       "      <td>12.6</td>\n",
       "      <td>3.5</td>\n",
       "      <td>4</td>\n",
       "      <td>3</td>\n",
       "      <td>30.20</td>\n",
       "    </tr>\n",
       "    <tr>\n",
       "      <th>1</th>\n",
       "      <td>46</td>\n",
       "      <td>Female</td>\n",
       "      <td>74.9</td>\n",
       "      <td>1.53</td>\n",
       "      <td>179</td>\n",
       "      <td>151</td>\n",
       "      <td>66</td>\n",
       "      <td>1.30</td>\n",
       "      <td>883.0</td>\n",
       "      <td>HIIT</td>\n",
       "      <td>33.9</td>\n",
       "      <td>2.1</td>\n",
       "      <td>4</td>\n",
       "      <td>2</td>\n",
       "      <td>32.00</td>\n",
       "    </tr>\n",
       "    <tr>\n",
       "      <th>2</th>\n",
       "      <td>32</td>\n",
       "      <td>Female</td>\n",
       "      <td>68.1</td>\n",
       "      <td>1.66</td>\n",
       "      <td>167</td>\n",
       "      <td>122</td>\n",
       "      <td>54</td>\n",
       "      <td>1.11</td>\n",
       "      <td>677.0</td>\n",
       "      <td>Cardio</td>\n",
       "      <td>33.4</td>\n",
       "      <td>2.3</td>\n",
       "      <td>4</td>\n",
       "      <td>2</td>\n",
       "      <td>24.71</td>\n",
       "    </tr>\n",
       "    <tr>\n",
       "      <th>3</th>\n",
       "      <td>25</td>\n",
       "      <td>Male</td>\n",
       "      <td>53.2</td>\n",
       "      <td>1.70</td>\n",
       "      <td>190</td>\n",
       "      <td>164</td>\n",
       "      <td>56</td>\n",
       "      <td>0.59</td>\n",
       "      <td>532.0</td>\n",
       "      <td>Strength</td>\n",
       "      <td>28.8</td>\n",
       "      <td>2.1</td>\n",
       "      <td>3</td>\n",
       "      <td>1</td>\n",
       "      <td>18.41</td>\n",
       "    </tr>\n",
       "    <tr>\n",
       "      <th>4</th>\n",
       "      <td>38</td>\n",
       "      <td>Male</td>\n",
       "      <td>46.1</td>\n",
       "      <td>1.79</td>\n",
       "      <td>188</td>\n",
       "      <td>158</td>\n",
       "      <td>68</td>\n",
       "      <td>0.64</td>\n",
       "      <td>556.0</td>\n",
       "      <td>Strength</td>\n",
       "      <td>29.2</td>\n",
       "      <td>2.8</td>\n",
       "      <td>3</td>\n",
       "      <td>1</td>\n",
       "      <td>14.39</td>\n",
       "    </tr>\n",
       "  </tbody>\n",
       "</table>\n",
       "</div>"
      ],
      "text/plain": [
       "   Age  Gender  Weight (kg)  Height (m)  Max_BPM  Avg_BPM  Resting_BPM  \\\n",
       "0   56    Male         88.3        1.71      180      157           60   \n",
       "1   46  Female         74.9        1.53      179      151           66   \n",
       "2   32  Female         68.1        1.66      167      122           54   \n",
       "3   25    Male         53.2        1.70      190      164           56   \n",
       "4   38    Male         46.1        1.79      188      158           68   \n",
       "\n",
       "   Session_Duration (hours)  Calories_Burned Workout_Type  Fat_Percentage  \\\n",
       "0                      1.69           1313.0         Yoga            12.6   \n",
       "1                      1.30            883.0         HIIT            33.9   \n",
       "2                      1.11            677.0       Cardio            33.4   \n",
       "3                      0.59            532.0     Strength            28.8   \n",
       "4                      0.64            556.0     Strength            29.2   \n",
       "\n",
       "   Water_Intake (liters)  Workout_Frequency (days/week)  Experience_Level  \\\n",
       "0                    3.5                              4                 3   \n",
       "1                    2.1                              4                 2   \n",
       "2                    2.3                              4                 2   \n",
       "3                    2.1                              3                 1   \n",
       "4                    2.8                              3                 1   \n",
       "\n",
       "     BMI  \n",
       "0  30.20  \n",
       "1  32.00  \n",
       "2  24.71  \n",
       "3  18.41  \n",
       "4  14.39  "
      ]
     },
     "metadata": {},
     "output_type": "display_data"
    }
   ],
   "source": [
    "# Display the first few rows to understand the dataset structure\n",
    "display(df_gym.head())"
   ]
  },
  {
   "cell_type": "markdown",
   "metadata": {},
   "source": [
    "## Transform\n",
    "\n",
    "In this section, we outline the preprocessing steps taken to prepare our data for analysis.\n",
    "\n",
    "To streamline the analysis, we will focus exclusively on two key variables: `Workout_Type` and `Calories_Burned`. As such, the DataFrame will be reduced to retain only these columns, removing any unrelated variables.\n",
    "\n",
    "Following this reduction, we will examine all unique values within the `Workout_Type` column."
   ]
  },
  {
   "cell_type": "code",
   "execution_count": 39,
   "metadata": {},
   "outputs": [],
   "source": [
    "df_calories = df_gym[['Calories_Burned', 'Workout_Type']].copy(deep=True)"
   ]
  },
  {
   "cell_type": "code",
   "execution_count": 40,
   "metadata": {},
   "outputs": [
    {
     "name": "stdout",
     "output_type": "stream",
     "text": [
      "The workout types are: ['Yoga' 'HIIT' 'Cardio' 'Strength']\n"
     ]
    }
   ],
   "source": [
    "workout_types = df_gym['Workout_Type'].unique()\n",
    "\n",
    "print(f\"The workout types are: {workout_types}\")\n"
   ]
  },
  {
   "cell_type": "markdown",
   "metadata": {},
   "source": [
    "In this dataset, we have four distinct workout types. To better understand their impact on the body, we will classify each as either aerobic or anaerobic based on their primary characteristics:\n",
    "\n",
    "- **Strength**: Anaerobic\n",
    "- **Yoga**: Anaerobic\n",
    "- **Cardio**: Aerobic\n",
    "- **HIIT**: Aerobic\n",
    "\n",
    "For most workout types, this classification is straightforward, given their established physiological effects. However, **Yoga** presents a unique case due to its diverse styles, which can vary in intensity and focus.\n",
    "\n",
    "Most classifications are straightforward, but **Yoga** requires some consideration. While Yoga can vary, many styles—like Power Yoga and Vinyasa—focus more on strength, flexibility, and holding poses than on continuous movement or cardio. This makes it similar to other anaerobic exercises that build strength without sustained, high oxygen demand.\n",
    "\n",
    "Therefore, in this analysis, we classify Yoga as **anaerobic** based on these qualities."
   ]
  },
  {
   "cell_type": "code",
   "execution_count": 41,
   "metadata": {},
   "outputs": [
    {
     "data": {
      "text/html": [
       "<div>\n",
       "<style scoped>\n",
       "    .dataframe tbody tr th:only-of-type {\n",
       "        vertical-align: middle;\n",
       "    }\n",
       "\n",
       "    .dataframe tbody tr th {\n",
       "        vertical-align: top;\n",
       "    }\n",
       "\n",
       "    .dataframe thead th {\n",
       "        text-align: right;\n",
       "    }\n",
       "</style>\n",
       "<table border=\"1\" class=\"dataframe\">\n",
       "  <thead>\n",
       "    <tr style=\"text-align: right;\">\n",
       "      <th></th>\n",
       "      <th>Calories_Burned</th>\n",
       "      <th>Workout_Type</th>\n",
       "    </tr>\n",
       "  </thead>\n",
       "  <tbody>\n",
       "    <tr>\n",
       "      <th>0</th>\n",
       "      <td>1313.0</td>\n",
       "      <td>Anaerobic</td>\n",
       "    </tr>\n",
       "    <tr>\n",
       "      <th>1</th>\n",
       "      <td>883.0</td>\n",
       "      <td>Aerobic</td>\n",
       "    </tr>\n",
       "    <tr>\n",
       "      <th>2</th>\n",
       "      <td>677.0</td>\n",
       "      <td>Aerobic</td>\n",
       "    </tr>\n",
       "    <tr>\n",
       "      <th>3</th>\n",
       "      <td>532.0</td>\n",
       "      <td>Anaerobic</td>\n",
       "    </tr>\n",
       "    <tr>\n",
       "      <th>4</th>\n",
       "      <td>556.0</td>\n",
       "      <td>Anaerobic</td>\n",
       "    </tr>\n",
       "  </tbody>\n",
       "</table>\n",
       "</div>"
      ],
      "text/plain": [
       "   Calories_Burned Workout_Type\n",
       "0           1313.0    Anaerobic\n",
       "1            883.0      Aerobic\n",
       "2            677.0      Aerobic\n",
       "3            532.0    Anaerobic\n",
       "4            556.0    Anaerobic"
      ]
     },
     "metadata": {},
     "output_type": "display_data"
    }
   ],
   "source": [
    "# Converts workout types to either Aerobic or Anaerobic\n",
    "\n",
    "dict_convert = {\n",
    "    'Yoga': 'Anaerobic',\n",
    "    'HIIT': 'Aerobic',\n",
    "    'Cardio': 'Aerobic',\n",
    "    'Strength': 'Anaerobic',\n",
    "}\n",
    "\n",
    "df_calories['Workout_Type'] = df_calories['Workout_Type'].map(dict_convert)\n",
    "\n",
    "display(df_calories.head())\n"
   ]
  },
  {
   "cell_type": "markdown",
   "metadata": {},
   "source": [
    "# Exploratory Data Analysis\n",
    "\n",
    "### Evaluating dataset balance and statistics"
   ]
  },
  {
   "cell_type": "code",
   "execution_count": 42,
   "metadata": {},
   "outputs": [
    {
     "data": {
      "text/html": [
       "<div>\n",
       "<style scoped>\n",
       "    .dataframe tbody tr th:only-of-type {\n",
       "        vertical-align: middle;\n",
       "    }\n",
       "\n",
       "    .dataframe tbody tr th {\n",
       "        vertical-align: top;\n",
       "    }\n",
       "\n",
       "    .dataframe thead th {\n",
       "        text-align: right;\n",
       "    }\n",
       "</style>\n",
       "<table border=\"1\" class=\"dataframe\">\n",
       "  <thead>\n",
       "    <tr style=\"text-align: right;\">\n",
       "      <th></th>\n",
       "      <th>Calories_Burned</th>\n",
       "    </tr>\n",
       "    <tr>\n",
       "      <th>Workout_Type</th>\n",
       "      <th></th>\n",
       "    </tr>\n",
       "  </thead>\n",
       "  <tbody>\n",
       "    <tr>\n",
       "      <th>Aerobic</th>\n",
       "      <td>476</td>\n",
       "    </tr>\n",
       "    <tr>\n",
       "      <th>Anaerobic</th>\n",
       "      <td>497</td>\n",
       "    </tr>\n",
       "  </tbody>\n",
       "</table>\n",
       "</div>"
      ],
      "text/plain": [
       "              Calories_Burned\n",
       "Workout_Type                 \n",
       "Aerobic                   476\n",
       "Anaerobic                 497"
      ]
     },
     "execution_count": 42,
     "metadata": {},
     "output_type": "execute_result"
    }
   ],
   "source": [
    "df_calories.groupby('Workout_Type').count()"
   ]
  },
  {
   "cell_type": "code",
   "execution_count": 43,
   "metadata": {},
   "outputs": [
    {
     "name": "stdout",
     "output_type": "stream",
     "text": [
      "Statistics for Aerobic workouts\n"
     ]
    },
    {
     "data": {
      "text/html": [
       "<div>\n",
       "<style scoped>\n",
       "    .dataframe tbody tr th:only-of-type {\n",
       "        vertical-align: middle;\n",
       "    }\n",
       "\n",
       "    .dataframe tbody tr th {\n",
       "        vertical-align: top;\n",
       "    }\n",
       "\n",
       "    .dataframe thead th {\n",
       "        text-align: right;\n",
       "    }\n",
       "</style>\n",
       "<table border=\"1\" class=\"dataframe\">\n",
       "  <thead>\n",
       "    <tr style=\"text-align: right;\">\n",
       "      <th></th>\n",
       "      <th>Calories_Burned</th>\n",
       "    </tr>\n",
       "  </thead>\n",
       "  <tbody>\n",
       "    <tr>\n",
       "      <th>count</th>\n",
       "      <td>476.000000</td>\n",
       "    </tr>\n",
       "    <tr>\n",
       "      <th>mean</th>\n",
       "      <td>903.684874</td>\n",
       "    </tr>\n",
       "    <tr>\n",
       "      <th>std</th>\n",
       "      <td>272.693322</td>\n",
       "    </tr>\n",
       "    <tr>\n",
       "      <th>min</th>\n",
       "      <td>303.000000</td>\n",
       "    </tr>\n",
       "    <tr>\n",
       "      <th>25%</th>\n",
       "      <td>728.500000</td>\n",
       "    </tr>\n",
       "    <tr>\n",
       "      <th>50%</th>\n",
       "      <td>900.000000</td>\n",
       "    </tr>\n",
       "    <tr>\n",
       "      <th>75%</th>\n",
       "      <td>1081.250000</td>\n",
       "    </tr>\n",
       "    <tr>\n",
       "      <th>max</th>\n",
       "      <td>1766.000000</td>\n",
       "    </tr>\n",
       "  </tbody>\n",
       "</table>\n",
       "</div>"
      ],
      "text/plain": [
       "       Calories_Burned\n",
       "count       476.000000\n",
       "mean        903.684874\n",
       "std         272.693322\n",
       "min         303.000000\n",
       "25%         728.500000\n",
       "50%         900.000000\n",
       "75%        1081.250000\n",
       "max        1766.000000"
      ]
     },
     "metadata": {},
     "output_type": "display_data"
    },
    {
     "name": "stdout",
     "output_type": "stream",
     "text": [
      "Statistics for Anaerobic workouts\n"
     ]
    },
    {
     "data": {
      "text/html": [
       "<div>\n",
       "<style scoped>\n",
       "    .dataframe tbody tr th:only-of-type {\n",
       "        vertical-align: middle;\n",
       "    }\n",
       "\n",
       "    .dataframe tbody tr th {\n",
       "        vertical-align: top;\n",
       "    }\n",
       "\n",
       "    .dataframe thead th {\n",
       "        text-align: right;\n",
       "    }\n",
       "</style>\n",
       "<table border=\"1\" class=\"dataframe\">\n",
       "  <thead>\n",
       "    <tr style=\"text-align: right;\">\n",
       "      <th></th>\n",
       "      <th>Calories_Burned</th>\n",
       "    </tr>\n",
       "  </thead>\n",
       "  <tbody>\n",
       "    <tr>\n",
       "      <th>count</th>\n",
       "      <td>497.000000</td>\n",
       "    </tr>\n",
       "    <tr>\n",
       "      <th>mean</th>\n",
       "      <td>907.086519</td>\n",
       "    </tr>\n",
       "    <tr>\n",
       "      <th>std</th>\n",
       "      <td>272.856253</td>\n",
       "    </tr>\n",
       "    <tr>\n",
       "      <th>min</th>\n",
       "      <td>330.000000</td>\n",
       "    </tr>\n",
       "    <tr>\n",
       "      <th>25%</th>\n",
       "      <td>714.000000</td>\n",
       "    </tr>\n",
       "    <tr>\n",
       "      <th>50%</th>\n",
       "      <td>885.000000</td>\n",
       "    </tr>\n",
       "    <tr>\n",
       "      <th>75%</th>\n",
       "      <td>1074.000000</td>\n",
       "    </tr>\n",
       "    <tr>\n",
       "      <th>max</th>\n",
       "      <td>1783.000000</td>\n",
       "    </tr>\n",
       "  </tbody>\n",
       "</table>\n",
       "</div>"
      ],
      "text/plain": [
       "       Calories_Burned\n",
       "count       497.000000\n",
       "mean        907.086519\n",
       "std         272.856253\n",
       "min         330.000000\n",
       "25%         714.000000\n",
       "50%         885.000000\n",
       "75%        1074.000000\n",
       "max        1783.000000"
      ]
     },
     "metadata": {},
     "output_type": "display_data"
    }
   ],
   "source": [
    "# Prints the statistics for each workout type\n",
    "\n",
    "print(\"Statistics for Aerobic workouts\")\n",
    "\n",
    "df_aerobic = df_calories[df_calories['Workout_Type'] == 'Aerobic']\n",
    "display(df_aerobic.describe())\n",
    "\n",
    "print(\"Statistics for Anaerobic workouts\")\n",
    "\n",
    "df_anaerobic = df_calories[df_calories['Workout_Type'] == 'Anaerobic']\n",
    "display(df_anaerobic.describe())\n"
   ]
  },
  {
   "cell_type": "markdown",
   "metadata": {},
   "source": [
    "### Distribution Visualization\n",
    "\n",
    "#### 1 - Violin Plot"
   ]
  },
  {
   "cell_type": "code",
   "execution_count": 44,
   "metadata": {},
   "outputs": [
    {
     "data": {
      "image/png": "[encoded data removed]",
      "text/plain": [
       "<Figure size 640x480 with 1 Axes>"
      ]
     },
     "metadata": {},
     "output_type": "display_data"
    },
    {
     "name": "stdout",
     "output_type": "stream",
     "text": [
      "\n"
     ]
    }
   ],
   "source": [
    "\n",
    "plot = (\n",
    "    ggplot(df_calories, aes(x='Workout_Type', y='Calories_Burned'))\n",
    "    + geom_violin()\n",
    "    + labs(title='Calories Burned by Workout Type', x='Workout Type', y='Calories Burned')\n",
    ")\n",
    "\n",
    "print(plot)"
   ]
  },
  {
   "cell_type": "markdown",
   "metadata": {},
   "source": [
    "#### 2 - Density Plot"
   ]
  },
  {
   "cell_type": "code",
   "execution_count": 45,
   "metadata": {},
   "outputs": [
    {
     "data": {
      "image/png": "[encoded data removed]",
      "text/plain": [
       "<Figure size 640x480 with 1 Axes>"
      ]
     },
     "metadata": {
      "needs_background": "light"
     },
     "output_type": "display_data"
    },
    {
     "name": "stdout",
     "output_type": "stream",
     "text": [
      "\n"
     ]
    }
   ],
   "source": [
    "# Plots the distribution of calories burned for each workout type\n",
    "\n",
    "plot = (\n",
    "    ggplot(df_calories, aes(x='Calories_Burned', fill='Workout_Type'))\n",
    "    + geom_density(alpha=0.5)\n",
    "    + labs(title='Density plot of calories burned by workout type', x='Calories Burned', y='Density')\n",
    "    + theme_minimal()\n",
    ")\n",
    "\n",
    "print(plot)"
   ]
  },
  {
   "cell_type": "markdown",
   "metadata": {},
   "source": [
    "#### 3 - Histogram"
   ]
  },
  {
   "cell_type": "code",
   "execution_count": 62,
   "metadata": {},
   "outputs": [
    {
     "data": {
      "image/png": "[encoded data removed]",
      "text/plain": [
       "<Figure size 640x480 with 2 Axes>"
      ]
     },
     "metadata": {},
     "output_type": "display_data"
    },
    {
     "name": "stdout",
     "output_type": "stream",
     "text": [
      "\n"
     ]
    }
   ],
   "source": [
    "# Histogram with KDE for BMI by Workout Type using facets\n",
    "plot_histogram_kde = (\n",
    "    ggplot(df_calories, aes(x=\"Calories_Burned\", fill=\"Workout_Type\"))\n",
    "    + geom_histogram(aes(y=\"..density..\"), bins=10, alpha=0.6, color=\"black\")\n",
    "    + geom_density(alpha=0.2)\n",
    "    + facet_wrap(\"~Workout_Type\")\n",
    "    + labs(\n",
    "        title=\"Calories Burned Distribution by Workout Type\",\n",
    "        x=\"Calories Burned\",\n",
    "        y=\"Density\"\n",
    "    )\n",
    "    + theme(legend_position=\"none\")\n",
    ")\n",
    "\n",
    "print(plot_histogram_kde)\n"
   ]
  },
  {
   "cell_type": "markdown",
   "metadata": {},
   "source": [
    "\n",
    "In this exploratory data analysis, we observe that both anaerobic and aerobic workout types exhibit similar characteristics in terms of calorie burn. The descriptive statistics for each type—such as mean, median, and standard deviation—are closely aligned, suggesting little variation in calorie expenditure between the two workout categories.\n",
    "\n",
    "Additionally, the histograms for both workout types show comparable distributions, reinforcing the similarity in their calorie-burning patterns. This visual alignment supports our statistical findings and suggests that neither workout type appears to consistently burn more calories than the other.\n",
    "\n",
    "However, to formally evaluate this observation, we will proceed with a hypothesis test. This test will help us determine whether there is a statistically significant difference in calories burned between anaerobic and aerobic workouts, thereby allowing us to reach a more rigorous conclusion.\n"
   ]
  },
  {
   "cell_type": "markdown",
   "metadata": {},
   "source": [
    "# Hypothesis Testing\n",
    "\n"
   ]
  },
  {
   "cell_type": "code",
   "execution_count": 47,
   "metadata": {},
   "outputs": [
    {
     "name": "stdout",
     "output_type": "stream",
     "text": [
      "The p-value is: 0.59\n"
     ]
    }
   ],
   "source": [
    "# Test Staticis: diff of avg calories burned between Aerobic and Anaerobic workouts\n",
    "\n",
    "def calc_test_statistic(df):\n",
    "    aerobic = df[df['Workout_Type'] == 'Aerobic']['Calories_Burned']\n",
    "    anaerobic = df[df['Workout_Type'] == 'Anaerobic']['Calories_Burned']\n",
    "    return np.mean(aerobic) - np.mean(anaerobic)\n",
    "\n",
    "def perm_test(df, n=1000):\n",
    "    test_stats = []\n",
    "    for _ in range(n):\n",
    "        df['Workout_Type'] = np.random.permutation(df['Workout_Type'].values)\n",
    "        test_stats.append(calc_test_statistic(df))\n",
    "    return test_stats\n",
    "\n",
    "observed_test_statistic = calc_test_statistic(df_calories)\n",
    "\n",
    "test_stats = perm_test(df_calories)\n",
    "\n",
    "p_value = np.mean(test_stats > observed_test_statistic)\n",
    "\n",
    "print(f\"The p-value is: {p_value}\")\n",
    "\n",
    "# Test Staticis: diff of avg calories burned between Aerobic and Anaerobic workouts\n"
   ]
  },
  {
   "cell_type": "code",
   "execution_count": 48,
   "metadata": {},
   "outputs": [
    {
     "data": {
      "text/html": [
       "<div>\n",
       "<style scoped>\n",
       "    .dataframe tbody tr th:only-of-type {\n",
       "        vertical-align: middle;\n",
       "    }\n",
       "\n",
       "    .dataframe tbody tr th {\n",
       "        vertical-align: top;\n",
       "    }\n",
       "\n",
       "    .dataframe thead th {\n",
       "        text-align: right;\n",
       "    }\n",
       "</style>\n",
       "<table border=\"1\" class=\"dataframe\">\n",
       "  <thead>\n",
       "    <tr style=\"text-align: right;\">\n",
       "      <th></th>\n",
       "      <th>Age</th>\n",
       "      <th>Gender</th>\n",
       "      <th>Weight (kg)</th>\n",
       "      <th>Height (m)</th>\n",
       "      <th>Max_BPM</th>\n",
       "      <th>Avg_BPM</th>\n",
       "      <th>Resting_BPM</th>\n",
       "      <th>Session_Duration (hours)</th>\n",
       "      <th>Calories_Burned</th>\n",
       "      <th>Workout_Type</th>\n",
       "      <th>Fat_Percentage</th>\n",
       "      <th>Water_Intake (liters)</th>\n",
       "      <th>Workout_Frequency (days/week)</th>\n",
       "      <th>Experience_Level</th>\n",
       "      <th>BMI</th>\n",
       "    </tr>\n",
       "  </thead>\n",
       "  <tbody>\n",
       "    <tr>\n",
       "      <th>910</th>\n",
       "      <td>32</td>\n",
       "      <td>Male</td>\n",
       "      <td>89.8</td>\n",
       "      <td>1.92</td>\n",
       "      <td>199</td>\n",
       "      <td>168</td>\n",
       "      <td>67</td>\n",
       "      <td>1.93</td>\n",
       "      <td>1783.0</td>\n",
       "      <td>Strength</td>\n",
       "      <td>10.6</td>\n",
       "      <td>3.5</td>\n",
       "      <td>4</td>\n",
       "      <td>3</td>\n",
       "      <td>24.36</td>\n",
       "    </tr>\n",
       "    <tr>\n",
       "      <th>712</th>\n",
       "      <td>19</td>\n",
       "      <td>Male</td>\n",
       "      <td>82.4</td>\n",
       "      <td>1.96</td>\n",
       "      <td>174</td>\n",
       "      <td>169</td>\n",
       "      <td>62</td>\n",
       "      <td>1.90</td>\n",
       "      <td>1766.0</td>\n",
       "      <td>HIIT</td>\n",
       "      <td>10.1</td>\n",
       "      <td>3.5</td>\n",
       "      <td>5</td>\n",
       "      <td>3</td>\n",
       "      <td>21.45</td>\n",
       "    </tr>\n",
       "    <tr>\n",
       "      <th>511</th>\n",
       "      <td>39</td>\n",
       "      <td>Male</td>\n",
       "      <td>86.2</td>\n",
       "      <td>1.82</td>\n",
       "      <td>191</td>\n",
       "      <td>160</td>\n",
       "      <td>72</td>\n",
       "      <td>1.96</td>\n",
       "      <td>1725.0</td>\n",
       "      <td>Strength</td>\n",
       "      <td>10.2</td>\n",
       "      <td>3.5</td>\n",
       "      <td>5</td>\n",
       "      <td>3</td>\n",
       "      <td>26.02</td>\n",
       "    </tr>\n",
       "    <tr>\n",
       "      <th>124</th>\n",
       "      <td>26</td>\n",
       "      <td>Male</td>\n",
       "      <td>86.2</td>\n",
       "      <td>1.68</td>\n",
       "      <td>189</td>\n",
       "      <td>157</td>\n",
       "      <td>72</td>\n",
       "      <td>1.97</td>\n",
       "      <td>1701.0</td>\n",
       "      <td>Strength</td>\n",
       "      <td>13.3</td>\n",
       "      <td>3.5</td>\n",
       "      <td>5</td>\n",
       "      <td>3</td>\n",
       "      <td>30.54</td>\n",
       "    </tr>\n",
       "    <tr>\n",
       "      <th>90</th>\n",
       "      <td>25</td>\n",
       "      <td>Male</td>\n",
       "      <td>81.5</td>\n",
       "      <td>1.61</td>\n",
       "      <td>170</td>\n",
       "      <td>159</td>\n",
       "      <td>63</td>\n",
       "      <td>1.93</td>\n",
       "      <td>1688.0</td>\n",
       "      <td>HIIT</td>\n",
       "      <td>10.9</td>\n",
       "      <td>3.5</td>\n",
       "      <td>4</td>\n",
       "      <td>3</td>\n",
       "      <td>31.44</td>\n",
       "    </tr>\n",
       "  </tbody>\n",
       "</table>\n",
       "</div>"
      ],
      "text/plain": [
       "     Age Gender  Weight (kg)  Height (m)  Max_BPM  Avg_BPM  Resting_BPM  \\\n",
       "910   32   Male         89.8        1.92      199      168           67   \n",
       "712   19   Male         82.4        1.96      174      169           62   \n",
       "511   39   Male         86.2        1.82      191      160           72   \n",
       "124   26   Male         86.2        1.68      189      157           72   \n",
       "90    25   Male         81.5        1.61      170      159           63   \n",
       "\n",
       "     Session_Duration (hours)  Calories_Burned Workout_Type  Fat_Percentage  \\\n",
       "910                      1.93           1783.0     Strength            10.6   \n",
       "712                      1.90           1766.0         HIIT            10.1   \n",
       "511                      1.96           1725.0     Strength            10.2   \n",
       "124                      1.97           1701.0     Strength            13.3   \n",
       "90                       1.93           1688.0         HIIT            10.9   \n",
       "\n",
       "     Water_Intake (liters)  Workout_Frequency (days/week)  Experience_Level  \\\n",
       "910                    3.5                              4                 3   \n",
       "712                    3.5                              5                 3   \n",
       "511                    3.5                              5                 3   \n",
       "124                    3.5                              5                 3   \n",
       "90                     3.5                              4                 3   \n",
       "\n",
       "       BMI  \n",
       "910  24.36  \n",
       "712  21.45  \n",
       "511  26.02  \n",
       "124  30.54  \n",
       "90   31.44  "
      ]
     },
     "execution_count": 48,
     "metadata": {},
     "output_type": "execute_result"
    }
   ],
   "source": [
    "# prints the most calories burned in a single workout sorted \n",
    "\n",
    "df_gym.sort_values(by='Calories_Burned', ascending=False).head()"
   ]
  },
  {
   "cell_type": "code",
   "execution_count": null,
   "metadata": {},
   "outputs": [],
   "source": []
  }
 ],
 "metadata": {
  "kernelspec": {
   "display_name": "deeplearning",
   "language": "python",
   "name": "python3"
  },
  "language_info": {
   "codemirror_mode": {
    "name": "ipython",
    "version": 3
   },
   "file_extension": ".py",
   "mimetype": "text/x-python",
   "name": "python",
   "nbconvert_exporter": "python",
   "pygments_lexer": "ipython3",
   "version": "3.9.18"
  }
 },
 "nbformat": 4,
 "nbformat_minor": 2
}
